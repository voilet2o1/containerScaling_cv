{
 "cells": [
  {
   "cell_type": "code",
   "execution_count": null,
   "id": "414bae9f",
   "metadata": {},
   "outputs": [],
   "source": [
    "import cv2\n",
    "import  urllib.request\n",
    "from cvzone.HandTrackingModule import HandDetector\n",
    "detector = HandDetector(maxHands=1 , detectionCon=0.8 )"
   ]
  },
  {
   "cell_type": "code",
   "execution_count": null,
   "id": "488a6e8a",
   "metadata": {},
   "outputs": [],
   "source": [
    "cap = cv2.VideoCapture(0)"
   ]
  },
  {
   "cell_type": "code",
   "execution_count": null,
   "id": "00030def",
   "metadata": {},
   "outputs": [],
   "source": [
    "while True:\n",
    "    ret,  photo = cap.read()\n",
    "    hand = detector.findHands(photo , draw=False )\n",
    "    \n",
    "    if hand:\n",
    "        detectHand = hand[0]\n",
    "        if detectHand:\n",
    "            fingerup = detector.fingersUp(detectHand) \n",
    "            if fingerup == [0, 1, 0, 1, 0]:\n",
    "                print(\"initial 2 finger\")\n",
    "                # AI Model\n",
    "                for i in range(2):\n",
    "                    request_url = urllib.request.urlopen('https://qg1vspnvmc.execute-api.ap-south-1.amazonaws.com/test/docker')\n",
    "                    print ( request_url.read() )\n",
    "                \n",
    "                # AI Model\n",
    "                \n",
    "            elif   fingerup == [0, 1, 1, 1, 0]:\n",
    "                print(\"middle 3 finger up\")\n",
    "                for i in range(3):\n",
    "                    request_url = urllib.request.urlopen('https://qg1vspnvmc.execute-api.ap-south-1.amazonaws.com/test/docker')\n",
    "                    print ( request_url.read() )\n",
    "                \n",
    "            elif   fingerup == [0, 1, 1, 1, 1]:\n",
    "                print(\"middle 4 finger up\")\n",
    "                for i in range(4):\n",
    "                    request_url = urllib.request.urlopen('https://qg1vspnvmc.execute-api.ap-south-1.amazonaws.com/test/docker')\n",
    "                    print ( request_url.read() )\n",
    "                \n",
    "            elif   fingerup == [1, 1, 1, 1, 1]:\n",
    "                print(\"all finger up\")\n",
    "                for i in range(5):\n",
    "                    request_url = urllib.request.urlopen('https://qg1vspnvmc.execute-api.ap-south-1.amazonaws.com/test/docker')\n",
    "                    print ( request_url.read() )\n",
    "                \n",
    "                \n",
    "                \n",
    "            \n",
    "    cv2.imshow(\"my photo\", photo)\n",
    "    if cv2.waitKey(10) == 13:\n",
    "        break\n",
    "        \n",
    "        \n",
    "cv2.destroyAllWindows()"
   ]
  },
  {
   "cell_type": "code",
   "execution_count": null,
   "id": "b031a19f",
   "metadata": {},
   "outputs": [],
   "source": [
    "cap.release()"
   ]
  },
  {
   "cell_type": "code",
   "execution_count": null,
   "id": "d6776174",
   "metadata": {},
   "outputs": [],
   "source": []
  }
 ],
 "metadata": {
  "kernelspec": {
   "display_name": "Python 3 (ipykernel)",
   "language": "python",
   "name": "python3"
  },
  "language_info": {
   "codemirror_mode": {
    "name": "ipython",
    "version": 3
   },
   "file_extension": ".py",
   "mimetype": "text/x-python",
   "name": "python",
   "nbconvert_exporter": "python",
   "pygments_lexer": "ipython3",
   "version": "3.10.9"
  }
 },
 "nbformat": 4,
 "nbformat_minor": 5
}
